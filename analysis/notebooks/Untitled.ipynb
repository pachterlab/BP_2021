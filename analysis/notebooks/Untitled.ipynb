{
 "cells": [
  {
   "cell_type": "raw",
   "id": "organic-surface",
   "metadata": {},
   "source": [
    "./kallisto_bus_enumerate.sh -o ../../data/pbmc_nose/ -i ../../reference/human-grch38/kallisto.idx -w ../../reference/whitelist_10xv3.txt -g ../../reference/human-grch38/t2g.txt -x 10xv3 -f ../../data/fastqs/human-pbmc10k_v3/"
   ]
  },
  {
   "cell_type": "code",
   "execution_count": 2,
   "id": "incident-extension",
   "metadata": {},
   "outputs": [],
   "source": [
    "olf_d = {\n",
    "    \"ENSG00000181009\": \"OR52N5\",\n",
    "    \"ENSG00000130538\": \"OR11H1\",\n",
    "    \"ENSG00000254466\": \"OR4D10\",\n",
    "    \"ENSG00000177233\": \"OR2M1P\",\n",
    "    \"ENSG00000176798\": \"OR51L1\",\n",
    "    \"ENSG00000204701\": \"OR2J3\",\n",
    "    \"ENSG00000176299\": \"OR4M1\",\n",
    "    \"ENSG00000182652\": \"OR4Q3\",\n",
    "}\n"
   ]
  },
  {
   "cell_type": "markdown",
   "id": "above-liberia",
   "metadata": {},
   "source": [
    "# Nose"
   ]
  },
  {
   "cell_type": "code",
   "execution_count": null,
   "id": "turned-yorkshire",
   "metadata": {},
   "outputs": [],
   "source": [
    "from kb_python.utils import import_matrix_as_anndata\n",
    "import matplotlib.pyplot as plt\n",
    "import numpy as np\n",
    "import pandas as pd\n",
    "import os\n",
    "\n",
    "\n",
    "def nd(arr):\n",
    "    return np.asarray(arr).reshape(-1)\n",
    "\n",
    "fsize=20\n",
    "\n",
    "plt.rcParams.update({'font.size': fsize})\n",
    "%config InlineBackend.figure_format = 'retina'"
   ]
  }
 ],
 "metadata": {
  "kernelspec": {
   "display_name": "Python 3",
   "language": "python",
   "name": "python3"
  },
  "language_info": {
   "codemirror_mode": {
    "name": "ipython",
    "version": 3
   },
   "file_extension": ".py",
   "mimetype": "text/x-python",
   "name": "python",
   "nbconvert_exporter": "python",
   "pygments_lexer": "ipython3",
   "version": "3.7.4"
  }
 },
 "nbformat": 4,
 "nbformat_minor": 5
}
